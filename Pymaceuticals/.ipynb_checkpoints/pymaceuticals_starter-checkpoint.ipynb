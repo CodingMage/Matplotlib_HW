{
 "cells": [
  {
   "cell_type": "markdown",
   "metadata": {},
   "source": [
    "## Observations and Insights"
   ]
  },
  {
   "cell_type": "markdown",
   "metadata": {},
   "source": [
    "1. General observations about the dataset:\n",
    "   This dataset contains the drug test results on reducing the tumor volume of mice. There are 10 promising drugs tested, each of them contains the results of 25 mice (except for 24 mice on Stelasyn). The tests were performed in a reliable way as indicated by similar condition of mice samples (similar group size, same starting tumor volume at 45 mm3, similar treatment timepoints and equal percentage of sex).\n",
    "\n",
    "2. From the summary statistics table of all drugs, Ramicane and Capomulin showed superior results than others as proved by their lower mean and median than other drugs tests. Given the fact that the all tests started with tumor volume of 45 mm3, it is rather convincing that Ramicane and Capomulin reduced the size of tumor upon treatment. On the other hand, all other drugs showed various degree of tumor volume increase after treatment. Therefore, Ramicane and Capomulin are proved to be more effective drugs than others.\n",
    "\n",
    "3. (a) From the analysis of Capomulin results as a function of mouse weight, it's concluded that the treatment is more effective on light-weight mouse than less effective on heavy-weight mouse. This could be due to the dosage difference if mice with different weights were give same amount of drug. \n",
    "   (b) By plotting the timepoint versus the tumor volume of mouse s185 (under Capomulin), it's shown that the reduction of tumor size did not reach a plateau at given time range. This indicates that further extending the time of treatment might result in better outcome.\n",
    "   Based on the two points mentioned above, further studies may focus on the influnce of drug dosage and treatment time to further test and improve the performance of drugs."
   ]
  },
  {
   "cell_type": "markdown",
   "metadata": {},
   "source": [
    "## Dependencies and starter code"
   ]
  },
  {
   "cell_type": "code",
   "execution_count": 1,
   "metadata": {},
   "outputs": [],
   "source": [
    "# Dependencies and Setup\n",
    "import matplotlib.pyplot as plt\n",
    "import pandas as pd\n",
    "import scipy.stats as st\n",
    "import numpy as np"
   ]
  },
  {
   "cell_type": "code",
   "execution_count": 2,
   "metadata": {},
   "outputs": [],
   "source": [
    "# Study data files\n",
    "mouse_metadata = \"data/Mouse_metadata.csv\"\n",
    "study_results = \"data/Study_results.csv\"\n",
    "\n",
    "# Read the mouse data and the study results\n",
    "mouse_metadata = pd.read_csv(mouse_metadata)\n",
    "study_results = pd.read_csv(study_results)\n",
    "\n",
    "# Combine the data into a single dataset"
   ]
  },
  {
   "cell_type": "markdown",
   "metadata": {},
   "source": [
    "## Summary statistics"
   ]
  },
  {
   "cell_type": "code",
   "execution_count": 3,
   "metadata": {
    "scrolled": true
   },
   "outputs": [],
   "source": [
    "df = pd.merge(mouse_metadata, study_results, how='outer', on='Mouse ID')\n",
    "df_regimen = df.groupby('Drug Regimen')"
   ]
  },
  {
   "cell_type": "code",
   "execution_count": 4,
   "metadata": {},
   "outputs": [
    {
     "name": "stdout",
     "output_type": "stream",
     "text": [
      "Total number of Mouses:249\n",
      "Total number of regimens:10\n",
      "Number of mouses under each regimen:\n",
      "\n",
      "Ramicane has been tested on 25 mice\n",
      "Capomulin has been tested on 25 mice\n",
      "Infubinol has been tested on 25 mice\n",
      "Placebo has been tested on 25 mice\n",
      "Ceftamin has been tested on 25 mice\n",
      "Stelasyn has been tested on 24 mice\n",
      "Zoniferol has been tested on 25 mice\n",
      "Ketapril has been tested on 25 mice\n",
      "Propriva has been tested on 25 mice\n",
      "Naftisol has been tested on 25 mice\n"
     ]
    }
   ],
   "source": [
    "# Let's explore the dataset!\n",
    "print(f'Total number of Mouses:{df[\"Mouse ID\"].nunique()}')\n",
    "print(f'Total number of regimens:{df[\"Drug Regimen\"].nunique()}')\n",
    "print(f'Number of mouses under each regimen:\\n')\n",
    "regimen_list = df['Drug Regimen'].unique()\n",
    "for x in regimen_list:\n",
    "    print(f'{x} has been tested on {df.loc[df[\"Drug Regimen\"] == x][\"Mouse ID\"].nunique()} mice')"
   ]
  },
  {
   "cell_type": "code",
   "execution_count": 5,
   "metadata": {},
   "outputs": [
    {
     "data": {
      "text/html": [
       "<div>\n",
       "<style scoped>\n",
       "    .dataframe tbody tr th:only-of-type {\n",
       "        vertical-align: middle;\n",
       "    }\n",
       "\n",
       "    .dataframe tbody tr th {\n",
       "        vertical-align: top;\n",
       "    }\n",
       "\n",
       "    .dataframe thead th {\n",
       "        text-align: right;\n",
       "    }\n",
       "</style>\n",
       "<table border=\"1\" class=\"dataframe\">\n",
       "  <thead>\n",
       "    <tr style=\"text-align: right;\">\n",
       "      <th></th>\n",
       "      <th>Mean</th>\n",
       "      <th>Median</th>\n",
       "      <th>Variance</th>\n",
       "      <th>std</th>\n",
       "      <th>sem</th>\n",
       "    </tr>\n",
       "    <tr>\n",
       "      <th>Drug Regimen</th>\n",
       "      <th></th>\n",
       "      <th></th>\n",
       "      <th></th>\n",
       "      <th></th>\n",
       "      <th></th>\n",
       "    </tr>\n",
       "  </thead>\n",
       "  <tbody>\n",
       "    <tr>\n",
       "      <th>Ramicane</th>\n",
       "      <td>40.216745</td>\n",
       "      <td>40.673236</td>\n",
       "      <td>23.486704</td>\n",
       "      <td>4.846308</td>\n",
       "      <td>0.320955</td>\n",
       "    </tr>\n",
       "    <tr>\n",
       "      <th>Capomulin</th>\n",
       "      <td>40.675741</td>\n",
       "      <td>41.557809</td>\n",
       "      <td>24.947764</td>\n",
       "      <td>4.994774</td>\n",
       "      <td>0.329346</td>\n",
       "    </tr>\n",
       "    <tr>\n",
       "      <th>Propriva</th>\n",
       "      <td>52.322552</td>\n",
       "      <td>50.854632</td>\n",
       "      <td>42.351070</td>\n",
       "      <td>6.507770</td>\n",
       "      <td>0.512884</td>\n",
       "    </tr>\n",
       "    <tr>\n",
       "      <th>Ceftamin</th>\n",
       "      <td>52.591172</td>\n",
       "      <td>51.776157</td>\n",
       "      <td>39.290177</td>\n",
       "      <td>6.268188</td>\n",
       "      <td>0.469821</td>\n",
       "    </tr>\n",
       "    <tr>\n",
       "      <th>Infubinol</th>\n",
       "      <td>52.884795</td>\n",
       "      <td>51.820584</td>\n",
       "      <td>43.128684</td>\n",
       "      <td>6.567243</td>\n",
       "      <td>0.492236</td>\n",
       "    </tr>\n",
       "    <tr>\n",
       "      <th>Zoniferol</th>\n",
       "      <td>53.236507</td>\n",
       "      <td>51.818479</td>\n",
       "      <td>48.533355</td>\n",
       "      <td>6.966589</td>\n",
       "      <td>0.516398</td>\n",
       "    </tr>\n",
       "    <tr>\n",
       "      <th>Placebo</th>\n",
       "      <td>54.033581</td>\n",
       "      <td>52.288934</td>\n",
       "      <td>61.168083</td>\n",
       "      <td>7.821003</td>\n",
       "      <td>0.581331</td>\n",
       "    </tr>\n",
       "    <tr>\n",
       "      <th>Stelasyn</th>\n",
       "      <td>54.233149</td>\n",
       "      <td>52.431737</td>\n",
       "      <td>59.450562</td>\n",
       "      <td>7.710419</td>\n",
       "      <td>0.573111</td>\n",
       "    </tr>\n",
       "    <tr>\n",
       "      <th>Naftisol</th>\n",
       "      <td>54.331565</td>\n",
       "      <td>52.509285</td>\n",
       "      <td>66.173479</td>\n",
       "      <td>8.134708</td>\n",
       "      <td>0.596466</td>\n",
       "    </tr>\n",
       "    <tr>\n",
       "      <th>Ketapril</th>\n",
       "      <td>55.235638</td>\n",
       "      <td>53.698743</td>\n",
       "      <td>68.553577</td>\n",
       "      <td>8.279709</td>\n",
       "      <td>0.603860</td>\n",
       "    </tr>\n",
       "  </tbody>\n",
       "</table>\n",
       "</div>"
      ],
      "text/plain": [
       "                   Mean     Median   Variance       std       sem\n",
       "Drug Regimen                                                     \n",
       "Ramicane      40.216745  40.673236  23.486704  4.846308  0.320955\n",
       "Capomulin     40.675741  41.557809  24.947764  4.994774  0.329346\n",
       "Propriva      52.322552  50.854632  42.351070  6.507770  0.512884\n",
       "Ceftamin      52.591172  51.776157  39.290177  6.268188  0.469821\n",
       "Infubinol     52.884795  51.820584  43.128684  6.567243  0.492236\n",
       "Zoniferol     53.236507  51.818479  48.533355  6.966589  0.516398\n",
       "Placebo       54.033581  52.288934  61.168083  7.821003  0.581331\n",
       "Stelasyn      54.233149  52.431737  59.450562  7.710419  0.573111\n",
       "Naftisol      54.331565  52.509285  66.173479  8.134708  0.596466\n",
       "Ketapril      55.235638  53.698743  68.553577  8.279709  0.603860"
      ]
     },
     "execution_count": 5,
     "metadata": {},
     "output_type": "execute_result"
    }
   ],
   "source": [
    "# Generate a summary statistics table of mean, median, variance, standard deviation, and SEM of the tumor volume for each regimen\n",
    "summary = pd.DataFrame({\n",
    "    'Mean': df_regimen['Tumor Volume (mm3)'].mean(),\n",
    "    'Median': df_regimen['Tumor Volume (mm3)'].median(),\n",
    "    'Variance':df_regimen['Tumor Volume (mm3)'].var(),\n",
    "    'std': df_regimen['Tumor Volume (mm3)'].std(),\n",
    "    'sem':df_regimen['Tumor Volume (mm3)'].sem()\n",
    "})\n",
    "summary.sort_values('Mean', ascending=True)"
   ]
  },
  {
   "cell_type": "markdown",
   "metadata": {},
   "source": [
    "## Bar plots"
   ]
  },
  {
   "cell_type": "code",
   "execution_count": 6,
   "metadata": {},
   "outputs": [
    {
     "data": {
      "text/plain": [
       "(-1, 10)"
      ]
     },
     "execution_count": 6,
     "metadata": {},
     "output_type": "execute_result"
    },
    {
     "data": {
      "image/png": "[encoded data removed]",
      "text/plain": [
       "<Figure size 432x288 with 1 Axes>"
      ]
     },
     "metadata": {
      "needs_background": "light"
     },
     "output_type": "display_data"
    }
   ],
   "source": [
    "# Generate a bar plot showing number of data points for each treatment regimen using pandas\n",
    "pd_datapoints = df['Drug Regimen'].value_counts().plot(kind='bar',width=0.5)\n",
    "pd_datapoints.set_ylabel('Values', size=15)\n",
    "pd_datapoints.set_xlabel('Drug Regimen',size=15)\n",
    "pd_datapoints.set_title('Tumor Volume Stats',size=15)\n",
    "pd_datapoints.set_xlim(-1,len(df['Drug Regimen'].value_counts()))"
   ]
  },
  {
   "cell_type": "code",
   "execution_count": 7,
   "metadata": {},
   "outputs": [
    {
     "data": {
      "text/plain": [
       "Text(0.5, 1.0, 'Tumor Volume Stats')"
      ]
     },
     "execution_count": 7,
     "metadata": {},
     "output_type": "execute_result"
    },
    {
     "data": {
      "image/png": "[encoded data removed]",
      "text/plain": [
       "<Figure size 432x288 with 1 Axes>"
      ]
     },
     "metadata": {
      "needs_background": "light"
     },
     "output_type": "display_data"
    }
   ],
   "source": [
    "datapoints = df['Drug Regimen'].value_counts()\n",
    "plt.bar(x = datapoints.index, height = datapoints, width=0.5)\n",
    "plt.xticks(datapoints.index, rotation = 'vertical')\n",
    "plt.xlim(-1,10)\n",
    "plt.ylabel('Values', size=15)\n",
    "plt.xlabel('Drug Regimen',size=15)\n",
    "plt.title('Tumor Volume Stats',size=15)"
   ]
  },
  {
   "cell_type": "markdown",
   "metadata": {},
   "source": [
    "## Pie plots"
   ]
  },
  {
   "cell_type": "code",
   "execution_count": 8,
   "metadata": {
    "scrolled": false
   },
   "outputs": [],
   "source": [
    "# Retrieving the sex data and drop duplicates\n",
    "df_pie = df[['Mouse ID', 'Sex']].drop_duplicates()\n",
    "\n",
    "# Value count on sex gives the distribution\n",
    "gender = df_pie.Sex.value_counts()"
   ]
  },
  {
   "cell_type": "code",
   "execution_count": 9,
   "metadata": {
    "scrolled": false
   },
   "outputs": [
    {
     "data": {
      "image/png": "[encoded data removed]",
      "text/plain": [
       "<Figure size 576x432 with 1 Axes>"
      ]
     },
     "metadata": {},
     "output_type": "display_data"
    }
   ],
   "source": [
    "# Generate a pie plot showing the distribution of female versus male mice using pandas\n",
    "gender_plot = gender.plot.pie(autopct='%1.1f%%', legend=True, startangle=90, fontsize=12, figsize=(8,6))\n",
    "gender_plot.set_ylabel('Sex Distribution', size=15)\n",
    "plt.tight_layout()"
   ]
  },
  {
   "cell_type": "code",
   "execution_count": 10,
   "metadata": {
    "scrolled": false
   },
   "outputs": [
    {
     "data": {
      "image/png": "[encoded data removed]",
      "text/plain": [
       "<Figure size 576x432 with 1 Axes>"
      ]
     },
     "metadata": {},
     "output_type": "display_data"
    }
   ],
   "source": [
    "# Generate a pie plot showing the distribution of female versus male mice using pyplot\n",
    "plt.figure(figsize=(8,6))\n",
    "patches, texts, autotexts = plt.pie(gender, labels=gender.index, autopct=\"%1.1f%%\", startangle=90)\n",
    "for text in texts:\n",
    "    text.set_size(12)\n",
    "for autotext in autotexts:\n",
    "    autotext.set_size(12)\n",
    "plt.ylabel('Sex Distribution',size=15)\n",
    "plt.legend()\n",
    "plt.tight_layout()"
   ]
  },
  {
   "cell_type": "markdown",
   "metadata": {},
   "source": [
    "## Quartiles, outliers and boxplots"
   ]
  },
  {
   "cell_type": "code",
   "execution_count": 11,
   "metadata": {},
   "outputs": [
    {
     "data": {
      "text/html": [
       "<div>\n",
       "<style scoped>\n",
       "    .dataframe tbody tr th:only-of-type {\n",
       "        vertical-align: middle;\n",
       "    }\n",
       "\n",
       "    .dataframe tbody tr th {\n",
       "        vertical-align: top;\n",
       "    }\n",
       "\n",
       "    .dataframe thead th {\n",
       "        text-align: right;\n",
       "    }\n",
       "</style>\n",
       "<table border=\"1\" class=\"dataframe\">\n",
       "  <thead>\n",
       "    <tr style=\"text-align: right;\">\n",
       "      <th></th>\n",
       "      <th>Mouse ID</th>\n",
       "      <th>Capomulin Final Volume</th>\n",
       "      <th>Mouse ID</th>\n",
       "      <th>Ramicane Final Volume</th>\n",
       "      <th>Mouse ID</th>\n",
       "      <th>Infubinol Final Volume</th>\n",
       "      <th>Mouse ID</th>\n",
       "      <th>Ceftamin Final Volume</th>\n",
       "    </tr>\n",
       "  </thead>\n",
       "  <tbody>\n",
       "    <tr>\n",
       "      <th>0</th>\n",
       "      <td>b128</td>\n",
       "      <td>38.982878</td>\n",
       "      <td>a411</td>\n",
       "      <td>38.407618</td>\n",
       "      <td>a203</td>\n",
       "      <td>67.973419</td>\n",
       "      <td>a275</td>\n",
       "      <td>62.999356</td>\n",
       "    </tr>\n",
       "    <tr>\n",
       "      <th>1</th>\n",
       "      <td>b742</td>\n",
       "      <td>38.939633</td>\n",
       "      <td>a444</td>\n",
       "      <td>43.047543</td>\n",
       "      <td>a251</td>\n",
       "      <td>65.525743</td>\n",
       "      <td>b447</td>\n",
       "      <td>45.000000</td>\n",
       "    </tr>\n",
       "    <tr>\n",
       "      <th>2</th>\n",
       "      <td>f966</td>\n",
       "      <td>30.485985</td>\n",
       "      <td>a520</td>\n",
       "      <td>38.810366</td>\n",
       "      <td>a577</td>\n",
       "      <td>57.031862</td>\n",
       "      <td>b487</td>\n",
       "      <td>56.057749</td>\n",
       "    </tr>\n",
       "    <tr>\n",
       "      <th>3</th>\n",
       "      <td>g288</td>\n",
       "      <td>37.074024</td>\n",
       "      <td>a644</td>\n",
       "      <td>32.978522</td>\n",
       "      <td>a685</td>\n",
       "      <td>66.083066</td>\n",
       "      <td>b759</td>\n",
       "      <td>55.742829</td>\n",
       "    </tr>\n",
       "    <tr>\n",
       "      <th>4</th>\n",
       "      <td>g316</td>\n",
       "      <td>40.159220</td>\n",
       "      <td>c458</td>\n",
       "      <td>38.342008</td>\n",
       "      <td>c139</td>\n",
       "      <td>72.226731</td>\n",
       "      <td>f436</td>\n",
       "      <td>48.722078</td>\n",
       "    </tr>\n",
       "    <tr>\n",
       "      <th>5</th>\n",
       "      <td>i557</td>\n",
       "      <td>47.685963</td>\n",
       "      <td>c758</td>\n",
       "      <td>33.397653</td>\n",
       "      <td>c326</td>\n",
       "      <td>36.321346</td>\n",
       "      <td>h531</td>\n",
       "      <td>47.784682</td>\n",
       "    </tr>\n",
       "    <tr>\n",
       "      <th>6</th>\n",
       "      <td>i738</td>\n",
       "      <td>37.311846</td>\n",
       "      <td>d251</td>\n",
       "      <td>37.311236</td>\n",
       "      <td>c895</td>\n",
       "      <td>60.969711</td>\n",
       "      <td>j296</td>\n",
       "      <td>61.849023</td>\n",
       "    </tr>\n",
       "    <tr>\n",
       "      <th>7</th>\n",
       "      <td>j119</td>\n",
       "      <td>38.125164</td>\n",
       "      <td>e662</td>\n",
       "      <td>40.659006</td>\n",
       "      <td>e476</td>\n",
       "      <td>62.435404</td>\n",
       "      <td>k210</td>\n",
       "      <td>68.923185</td>\n",
       "    </tr>\n",
       "    <tr>\n",
       "      <th>8</th>\n",
       "      <td>j246</td>\n",
       "      <td>38.753265</td>\n",
       "      <td>g791</td>\n",
       "      <td>29.128472</td>\n",
       "      <td>f345</td>\n",
       "      <td>60.918767</td>\n",
       "      <td>l471</td>\n",
       "      <td>67.748662</td>\n",
       "    </tr>\n",
       "    <tr>\n",
       "      <th>9</th>\n",
       "      <td>l509</td>\n",
       "      <td>41.483008</td>\n",
       "      <td>i177</td>\n",
       "      <td>33.562402</td>\n",
       "      <td>i386</td>\n",
       "      <td>67.289621</td>\n",
       "      <td>l490</td>\n",
       "      <td>57.918381</td>\n",
       "    </tr>\n",
       "    <tr>\n",
       "      <th>10</th>\n",
       "      <td>l897</td>\n",
       "      <td>38.846876</td>\n",
       "      <td>i334</td>\n",
       "      <td>36.374510</td>\n",
       "      <td>k483</td>\n",
       "      <td>66.196912</td>\n",
       "      <td>l558</td>\n",
       "      <td>46.784535</td>\n",
       "    </tr>\n",
       "    <tr>\n",
       "      <th>11</th>\n",
       "      <td>m601</td>\n",
       "      <td>28.430964</td>\n",
       "      <td>j913</td>\n",
       "      <td>31.560470</td>\n",
       "      <td>k804</td>\n",
       "      <td>62.117279</td>\n",
       "      <td>l661</td>\n",
       "      <td>59.851956</td>\n",
       "    </tr>\n",
       "    <tr>\n",
       "      <th>12</th>\n",
       "      <td>m957</td>\n",
       "      <td>33.329098</td>\n",
       "      <td>j989</td>\n",
       "      <td>36.134852</td>\n",
       "      <td>m756</td>\n",
       "      <td>47.010364</td>\n",
       "      <td>l733</td>\n",
       "      <td>64.299830</td>\n",
       "    </tr>\n",
       "    <tr>\n",
       "      <th>13</th>\n",
       "      <td>r157</td>\n",
       "      <td>46.539206</td>\n",
       "      <td>k403</td>\n",
       "      <td>22.050126</td>\n",
       "      <td>n671</td>\n",
       "      <td>60.165180</td>\n",
       "      <td>o287</td>\n",
       "      <td>59.741901</td>\n",
       "    </tr>\n",
       "    <tr>\n",
       "      <th>14</th>\n",
       "      <td>r554</td>\n",
       "      <td>32.377357</td>\n",
       "      <td>m546</td>\n",
       "      <td>30.564625</td>\n",
       "      <td>o809</td>\n",
       "      <td>55.629428</td>\n",
       "      <td>p438</td>\n",
       "      <td>61.433892</td>\n",
       "    </tr>\n",
       "    <tr>\n",
       "      <th>15</th>\n",
       "      <td>r944</td>\n",
       "      <td>41.581521</td>\n",
       "      <td>n364</td>\n",
       "      <td>31.095335</td>\n",
       "      <td>o813</td>\n",
       "      <td>45.699331</td>\n",
       "      <td>q483</td>\n",
       "      <td>64.192341</td>\n",
       "    </tr>\n",
       "    <tr>\n",
       "      <th>16</th>\n",
       "      <td>s185</td>\n",
       "      <td>23.343598</td>\n",
       "      <td>q597</td>\n",
       "      <td>45.220869</td>\n",
       "      <td>q132</td>\n",
       "      <td>54.656549</td>\n",
       "      <td>t573</td>\n",
       "      <td>45.000000</td>\n",
       "    </tr>\n",
       "    <tr>\n",
       "      <th>17</th>\n",
       "      <td>s710</td>\n",
       "      <td>40.728578</td>\n",
       "      <td>q610</td>\n",
       "      <td>36.561652</td>\n",
       "      <td>s121</td>\n",
       "      <td>55.650681</td>\n",
       "      <td>u149</td>\n",
       "      <td>52.925348</td>\n",
       "    </tr>\n",
       "    <tr>\n",
       "      <th>18</th>\n",
       "      <td>t565</td>\n",
       "      <td>34.455298</td>\n",
       "      <td>r811</td>\n",
       "      <td>37.225650</td>\n",
       "      <td>v339</td>\n",
       "      <td>46.250112</td>\n",
       "      <td>u153</td>\n",
       "      <td>45.000000</td>\n",
       "    </tr>\n",
       "    <tr>\n",
       "      <th>19</th>\n",
       "      <td>u364</td>\n",
       "      <td>31.023923</td>\n",
       "      <td>r921</td>\n",
       "      <td>43.419381</td>\n",
       "      <td>v719</td>\n",
       "      <td>54.048608</td>\n",
       "      <td>w151</td>\n",
       "      <td>67.527482</td>\n",
       "    </tr>\n",
       "    <tr>\n",
       "      <th>20</th>\n",
       "      <td>v923</td>\n",
       "      <td>40.658124</td>\n",
       "      <td>s508</td>\n",
       "      <td>30.276232</td>\n",
       "      <td>v766</td>\n",
       "      <td>51.542431</td>\n",
       "      <td>x226</td>\n",
       "      <td>45.000000</td>\n",
       "    </tr>\n",
       "    <tr>\n",
       "      <th>21</th>\n",
       "      <td>w150</td>\n",
       "      <td>39.952347</td>\n",
       "      <td>u196</td>\n",
       "      <td>40.667713</td>\n",
       "      <td>w193</td>\n",
       "      <td>50.005138</td>\n",
       "      <td>x581</td>\n",
       "      <td>64.634949</td>\n",
       "    </tr>\n",
       "    <tr>\n",
       "      <th>22</th>\n",
       "      <td>w914</td>\n",
       "      <td>36.041047</td>\n",
       "      <td>w678</td>\n",
       "      <td>43.166373</td>\n",
       "      <td>w584</td>\n",
       "      <td>58.268442</td>\n",
       "      <td>x822</td>\n",
       "      <td>61.386660</td>\n",
       "    </tr>\n",
       "    <tr>\n",
       "      <th>23</th>\n",
       "      <td>x401</td>\n",
       "      <td>28.484033</td>\n",
       "      <td>y449</td>\n",
       "      <td>44.183451</td>\n",
       "      <td>y163</td>\n",
       "      <td>67.685569</td>\n",
       "      <td>y769</td>\n",
       "      <td>68.594745</td>\n",
       "    </tr>\n",
       "    <tr>\n",
       "      <th>24</th>\n",
       "      <td>y793</td>\n",
       "      <td>31.896238</td>\n",
       "      <td>z578</td>\n",
       "      <td>30.638696</td>\n",
       "      <td>z581</td>\n",
       "      <td>62.754451</td>\n",
       "      <td>y865</td>\n",
       "      <td>64.729837</td>\n",
       "    </tr>\n",
       "  </tbody>\n",
       "</table>\n",
       "</div>"
      ],
      "text/plain": [
       "   Mouse ID  Capomulin Final Volume Mouse ID  Ramicane Final Volume Mouse ID  \\\n",
       "0      b128               38.982878     a411              38.407618     a203   \n",
       "1      b742               38.939633     a444              43.047543     a251   \n",
       "2      f966               30.485985     a520              38.810366     a577   \n",
       "3      g288               37.074024     a644              32.978522     a685   \n",
       "4      g316               40.159220     c458              38.342008     c139   \n",
       "5      i557               47.685963     c758              33.397653     c326   \n",
       "6      i738               37.311846     d251              37.311236     c895   \n",
       "7      j119               38.125164     e662              40.659006     e476   \n",
       "8      j246               38.753265     g791              29.128472     f345   \n",
       "9      l509               41.483008     i177              33.562402     i386   \n",
       "10     l897               38.846876     i334              36.374510     k483   \n",
       "11     m601               28.430964     j913              31.560470     k804   \n",
       "12     m957               33.329098     j989              36.134852     m756   \n",
       "13     r157               46.539206     k403              22.050126     n671   \n",
       "14     r554               32.377357     m546              30.564625     o809   \n",
       "15     r944               41.581521     n364              31.095335     o813   \n",
       "16     s185               23.343598     q597              45.220869     q132   \n",
       "17     s710               40.728578     q610              36.561652     s121   \n",
       "18     t565               34.455298     r811              37.225650     v339   \n",
       "19     u364               31.023923     r921              43.419381     v719   \n",
       "20     v923               40.658124     s508              30.276232     v766   \n",
       "21     w150               39.952347     u196              40.667713     w193   \n",
       "22     w914               36.041047     w678              43.166373     w584   \n",
       "23     x401               28.484033     y449              44.183451     y163   \n",
       "24     y793               31.896238     z578              30.638696     z581   \n",
       "\n",
       "    Infubinol Final Volume Mouse ID  Ceftamin Final Volume  \n",
       "0                67.973419     a275              62.999356  \n",
       "1                65.525743     b447              45.000000  \n",
       "2                57.031862     b487              56.057749  \n",
       "3                66.083066     b759              55.742829  \n",
       "4                72.226731     f436              48.722078  \n",
       "5                36.321346     h531              47.784682  \n",
       "6                60.969711     j296              61.849023  \n",
       "7                62.435404     k210              68.923185  \n",
       "8                60.918767     l471              67.748662  \n",
       "9                67.289621     l490              57.918381  \n",
       "10               66.196912     l558              46.784535  \n",
       "11               62.117279     l661              59.851956  \n",
       "12               47.010364     l733              64.299830  \n",
       "13               60.165180     o287              59.741901  \n",
       "14               55.629428     p438              61.433892  \n",
       "15               45.699331     q483              64.192341  \n",
       "16               54.656549     t573              45.000000  \n",
       "17               55.650681     u149              52.925348  \n",
       "18               46.250112     u153              45.000000  \n",
       "19               54.048608     w151              67.527482  \n",
       "20               51.542431     x226              45.000000  \n",
       "21               50.005138     x581              64.634949  \n",
       "22               58.268442     x822              61.386660  \n",
       "23               67.685569     y769              68.594745  \n",
       "24               62.754451     y865              64.729837  "
      ]
     },
     "execution_count": 11,
     "metadata": {},
     "output_type": "execute_result"
    }
   ],
   "source": [
    "# Calculate the final tumor volume of each mouse across four of the most promising treatment regimens.\n",
    "# Printing all the individual mouse and its final volume data across the four treatement regimens.\n",
    "regimens = ['Capomulin', 'Ramicane', 'Infubinol', 'Ceftamin']\n",
    "df_regimens = None\n",
    "for i in range(len(regimens)):\n",
    "    tumor_data = df.loc[df['Drug Regimen'] == regimens[i]].groupby('Mouse ID').last()['Tumor Volume (mm3)'].reset_index()\n",
    "    df_regimens = pd.concat([df_regimens, tumor_data.rename(columns={'Tumor Volume (mm3)': regimens[i]+' Final Volume'})],axis=1)\n",
    "df_regimens"
   ]
  },
  {
   "cell_type": "code",
   "execution_count": 12,
   "metadata": {},
   "outputs": [
    {
     "data": {
      "text/html": [
       "<div>\n",
       "<style scoped>\n",
       "    .dataframe tbody tr th:only-of-type {\n",
       "        vertical-align: middle;\n",
       "    }\n",
       "\n",
       "    .dataframe tbody tr th {\n",
       "        vertical-align: top;\n",
       "    }\n",
       "\n",
       "    .dataframe thead th {\n",
       "        text-align: right;\n",
       "    }\n",
       "</style>\n",
       "<table border=\"1\" class=\"dataframe\">\n",
       "  <thead>\n",
       "    <tr style=\"text-align: right;\">\n",
       "      <th></th>\n",
       "      <th>IQR</th>\n",
       "      <th>Upper Bound</th>\n",
       "      <th>Lower Bound</th>\n",
       "      <th>Outlier</th>\n",
       "    </tr>\n",
       "  </thead>\n",
       "  <tbody>\n",
       "    <tr>\n",
       "      <th>Ramicane</th>\n",
       "      <td>9.10</td>\n",
       "      <td>54.31</td>\n",
       "      <td>17.91</td>\n",
       "      <td>No</td>\n",
       "    </tr>\n",
       "    <tr>\n",
       "      <th>Capomulin</th>\n",
       "      <td>7.78</td>\n",
       "      <td>51.83</td>\n",
       "      <td>20.70</td>\n",
       "      <td>No</td>\n",
       "    </tr>\n",
       "    <tr>\n",
       "      <th>Infubinol</th>\n",
       "      <td>11.48</td>\n",
       "      <td>82.74</td>\n",
       "      <td>36.83</td>\n",
       "      <td>Yes</td>\n",
       "    </tr>\n",
       "    <tr>\n",
       "      <th>Placebo</th>\n",
       "      <td>15.19</td>\n",
       "      <td>90.92</td>\n",
       "      <td>30.16</td>\n",
       "      <td>No</td>\n",
       "    </tr>\n",
       "    <tr>\n",
       "      <th>Ceftamin</th>\n",
       "      <td>15.58</td>\n",
       "      <td>87.67</td>\n",
       "      <td>25.36</td>\n",
       "      <td>No</td>\n",
       "    </tr>\n",
       "    <tr>\n",
       "      <th>Stelasyn</th>\n",
       "      <td>16.63</td>\n",
       "      <td>94.04</td>\n",
       "      <td>27.54</td>\n",
       "      <td>No</td>\n",
       "    </tr>\n",
       "    <tr>\n",
       "      <th>Zoniferol</th>\n",
       "      <td>16.81</td>\n",
       "      <td>92.00</td>\n",
       "      <td>24.78</td>\n",
       "      <td>No</td>\n",
       "    </tr>\n",
       "    <tr>\n",
       "      <th>Ketapril</th>\n",
       "      <td>13.15</td>\n",
       "      <td>89.60</td>\n",
       "      <td>36.99</td>\n",
       "      <td>No</td>\n",
       "    </tr>\n",
       "    <tr>\n",
       "      <th>Propriva</th>\n",
       "      <td>13.45</td>\n",
       "      <td>82.74</td>\n",
       "      <td>28.95</td>\n",
       "      <td>No</td>\n",
       "    </tr>\n",
       "    <tr>\n",
       "      <th>Naftisol</th>\n",
       "      <td>17.48</td>\n",
       "      <td>95.79</td>\n",
       "      <td>25.85</td>\n",
       "      <td>No</td>\n",
       "    </tr>\n",
       "  </tbody>\n",
       "</table>\n",
       "</div>"
      ],
      "text/plain": [
       "             IQR  Upper Bound  Lower Bound Outlier\n",
       "Ramicane    9.10        54.31        17.91      No\n",
       "Capomulin   7.78        51.83        20.70      No\n",
       "Infubinol  11.48        82.74        36.83     Yes\n",
       "Placebo    15.19        90.92        30.16      No\n",
       "Ceftamin   15.58        87.67        25.36      No\n",
       "Stelasyn   16.63        94.04        27.54      No\n",
       "Zoniferol  16.81        92.00        24.78      No\n",
       "Ketapril   13.15        89.60        36.99      No\n",
       "Propriva   13.45        82.74        28.95      No\n",
       "Naftisol   17.48        95.79        25.85      No"
      ]
     },
     "execution_count": 12,
     "metadata": {},
     "output_type": "execute_result"
    }
   ],
   "source": [
    "# # Calculate the IQR and quantitatively determine if there are any potential outliers. \n",
    "\n",
    "# Define a function that returns a list of iqr, boundaries and outlier test\n",
    "def iqr_outlier(data_iqr):\n",
    "    quartiles = data_iqr.quantile([0.25, 0.75])\n",
    "    upper_q = quartiles[0.75]\n",
    "    lower_q = quartiles[0.25]\n",
    "    iqr = upper_q-lower_q\n",
    "    upper_bound = upper_q+1.5*iqr\n",
    "    lower_bound = lower_q-1.5*iqr\n",
    "    upper_check = upper_bound - data_iqr\n",
    "    lower_check = data_iqr-lower_bound\n",
    "    flag = True\n",
    "    while flag:\n",
    "        for j in range(len(upper_check)):\n",
    "            if upper_check[j] > 0 and lower_check[j]>0:\n",
    "                pass\n",
    "            else:\n",
    "                return [round(iqr,2), round(upper_bound,2), round(lower_bound,2), 'Yes']\n",
    "                flag = False\n",
    "                break\n",
    "        break\n",
    "    if flag:\n",
    "        return [round(iqr,2), round(upper_bound,2), round(lower_bound,2),'No']\n",
    "    \n",
    "all_regimens = df['Drug Regimen'].unique()\n",
    "iqr_list = []\n",
    "upper_bound_list = []\n",
    "lower_bound_list = []\n",
    "outlier_list = []\n",
    "\n",
    "# Running a for-loop to get the treatment summary data for all 10 regimens\n",
    "for i in range(len(all_regimens)):\n",
    "    data_iqr = df.loc[df['Drug Regimen'] == all_regimens[i]].groupby('Mouse ID').last()['Tumor Volume (mm3)']\n",
    "    iqr_list.append(iqr_outlier(data_iqr)[0])\n",
    "    upper_bound_list.append(iqr_outlier(data_iqr)[1])\n",
    "    lower_bound_list.append(iqr_outlier(data_iqr)[2])\n",
    "    outlier_list.append(iqr_outlier(data_iqr)[3])\n",
    "summary_iqr = pd.DataFrame(index=all_regimens, data={'IQR':iqr_list,\n",
    "                                                     'Upper Bound': upper_bound_list,\n",
    "                                                     'Lower Bound': lower_bound_list,\n",
    "                                                     'Outlier':outlier_list})\n",
    "summary_iqr"
   ]
  },
  {
   "cell_type": "code",
   "execution_count": 13,
   "metadata": {},
   "outputs": [
    {
     "data": {
      "text/plain": [
       "Text(0, 0.5, 'Final Tumor Volumn (mm3)')"
      ]
     },
     "execution_count": 13,
     "metadata": {},
     "output_type": "execute_result"
    },
    {
     "data": {
      "image/png": "[encoded data removed]",
      "text/plain": [
       "<Figure size 720x720 with 1 Axes>"
      ]
     },
     "metadata": {
      "needs_background": "light"
     },
     "output_type": "display_data"
    }
   ],
   "source": [
    "# Generate a box plot of the final tumor volume of each mouse across four regimens of interest\n",
    "plt.figure(figsize=(10,10))\n",
    "boxdata=[]\n",
    "\n",
    "# Populate the data used for boxplot in a for-loop. Using .last() to retrieve the final tumor volume of each trial.\n",
    "for i in range(len(regimens)):\n",
    "    boxdata.append(df.loc[df['Drug Regimen'] == regimens[i]].groupby('Mouse ID').last()['Tumor Volume (mm3)'])\n",
    "plt.boxplot(boxdata, labels=regimens)\n",
    "plt.xticks(size=15)\n",
    "plt.yticks(size=15)\n",
    "plt.ylabel('Final Tumor Volumn (mm3)', fontsize=15)"
   ]
  },
  {
   "cell_type": "markdown",
   "metadata": {},
   "source": [
    "## Line and scatter plots"
   ]
  },
  {
   "cell_type": "code",
   "execution_count": 14,
   "metadata": {},
   "outputs": [
    {
     "data": {
      "text/plain": [
       "(array([20., 25., 30., 35., 40., 45., 50.]),\n",
       " <a list of 7 Text yticklabel objects>)"
      ]
     },
     "execution_count": 14,
     "metadata": {},
     "output_type": "execute_result"
    },
    {
     "data": {
      "image/png": "[encoded data removed]",
      "text/plain": [
       "<Figure size 576x576 with 1 Axes>"
      ]
     },
     "metadata": {
      "needs_background": "light"
     },
     "output_type": "display_data"
    }
   ],
   "source": [
    "# Generate a line plot of time point versus tumor volume for a mouse treated with Capomulin\n",
    "plt.figure(figsize=(8,8))\n",
    "df_s185 = df.loc[df['Mouse ID'] == 's185']\n",
    "timepoint = df_s185['Timepoint']\n",
    "tumor_volume = df_s185['Tumor Volume (mm3)']\n",
    "plt.plot(timepoint, tumor_volume)\n",
    "plt.xlabel('Time point', size=15)\n",
    "plt.ylabel('Tumor Volume (mm3)', size=15)\n",
    "plt.title('Tumor Volume change of mouse s185', size=15)\n",
    "plt.xticks(size=12)\n",
    "plt.yticks(size=12)"
   ]
  },
  {
   "cell_type": "code",
   "execution_count": 15,
   "metadata": {},
   "outputs": [
    {
     "data": {
      "text/plain": [
       "(array([32., 34., 36., 38., 40., 42., 44., 46., 48.]),\n",
       " <a list of 9 Text yticklabel objects>)"
      ]
     },
     "execution_count": 15,
     "metadata": {},
     "output_type": "execute_result"
    },
    {
     "data": {
      "image/png": "[encoded data removed]",
      "text/plain": [
       "<Figure size 576x432 with 1 Axes>"
      ]
     },
     "metadata": {
      "needs_background": "light"
     },
     "output_type": "display_data"
    }
   ],
   "source": [
    "# Generate a scatter plot of mouse weight versus average tumor volume for the Capomulin regimen\n",
    "plt.figure(figsize=(8,6))\n",
    "df_capo = df.loc[df['Drug Regimen'] == 'Capomulin']\n",
    "df_capo_group = df_capo.groupby('Mouse ID')\n",
    "weights = df_capo_group['Weight (g)'].mean()\n",
    "tumor = df_capo_group['Tumor Volume (mm3)'].mean()\n",
    "plt.scatter(weights,tumor, s=35)\n",
    "plt.xlabel('Weights',size=15)\n",
    "plt.ylabel('Tumor Volume (mm3)',size=15)\n",
    "plt.title('Tumor Volume change for Capomulin regimen',size=15)\n",
    "plt.xticks(size=12)\n",
    "plt.yticks(size=12)"
   ]
  },
  {
   "cell_type": "code",
   "execution_count": 16,
   "metadata": {},
   "outputs": [
    {
     "name": "stdout",
     "output_type": "stream",
     "text": [
      "The correlation between mouse weight and tumor volumn for the Capomulin regimen is 0.84\n"
     ]
    },
    {
     "data": {
      "text/plain": [
       "(array([32., 34., 36., 38., 40., 42., 44., 46., 48.]),\n",
       " <a list of 9 Text yticklabel objects>)"
      ]
     },
     "execution_count": 16,
     "metadata": {},
     "output_type": "execute_result"
    },
    {
     "data": {
      "image/png": "[encoded data removed]",
      "text/plain": [
       "<Figure size 576x432 with 1 Axes>"
      ]
     },
     "metadata": {
      "needs_background": "light"
     },
     "output_type": "display_data"
    }
   ],
   "source": [
    "# Calculate the correlation coefficient and linear regression model for mouse weight and average tumor volume for the Capomulin regimen\n",
    "correlation = st.pearsonr(weights, tumor)\n",
    "print(f\"The correlation between mouse weight and tumor volumn for the Capomulin regimen is {round(correlation[0],2)}\")\n",
    "\n",
    "# Making the regression model\n",
    "(slope, intercept, rvalue, pvalue, stderr) = st.linregress(weights, tumor)\n",
    "regress_values = weights * slope + intercept\n",
    "line_eq = \"y = \" + str(round(slope,2)) + \"x + \" + str(round(intercept,2))\n",
    "\n",
    "# Plot the linear model with scatter plot\n",
    "plt.figure(figsize=(8,6))\n",
    "plt.scatter(weights,tumor)\n",
    "plt.plot(weights, regress_values, 'r--', alpha=0.2)\n",
    "plt.annotate(line_eq,(17.5,37.5),fontsize=15,color=\"red\")\n",
    "plt.xlabel('Weights', size=15)\n",
    "plt.ylabel('Tumor Volume (mm3)', size=15)\n",
    "plt.title('Tumor Volume change of mouse for Capomulin regimen', size=15)\n",
    "plt.xticks(size=12)\n",
    "plt.yticks(size=12)"
   ]
  },
  {
   "cell_type": "code",
   "execution_count": null,
   "metadata": {},
   "outputs": [],
   "source": []
  }
 ],
 "metadata": {
  "anaconda-cloud": {},
  "kernelspec": {
   "display_name": "Python 3",
   "language": "python",
   "name": "python3"
  },
  "language_info": {
   "codemirror_mode": {
    "name": "ipython",
    "version": 3
   },
   "file_extension": ".py",
   "mimetype": "text/x-python",
   "name": "python",
   "nbconvert_exporter": "python",
   "pygments_lexer": "ipython3",
   "version": "3.7.4"
  }
 },
 "nbformat": 4,
 "nbformat_minor": 4
}
